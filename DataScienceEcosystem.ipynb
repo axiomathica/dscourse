{
  "metadata": {
    "kernelspec": {
      "name": "python",
      "display_name": "Python (Pyodide)",
      "language": "python"
    },
    "language_info": {
      "codemirror_mode": {
        "name": "python",
        "version": 3
      },
      "file_extension": ".py",
      "mimetype": "text/x-python",
      "name": "python",
      "nbconvert_exporter": "python",
      "pygments_lexer": "ipython3",
      "version": "3.8"
    }
  },
  "nbformat_minor": 5,
  "nbformat": 4,
  "cells": [
    {
      "id": "888d2647-9477-4828-b749-a4e7f8ff819f",
      "cell_type": "markdown",
      "source": "# Data Science Tools and Ecosystem",
      "metadata": {
        "tags": [],
        "editable": true,
        "slideshow": {
          "slide_type": ""
        }
      }
    },
    {
      "id": "16fb17c8-0b9e-46ee-af7f-fb9ca7582866",
      "cell_type": "markdown",
      "source": "In this notebook, Data Science Tools and Ecosystem are summarized.",
      "metadata": {}
    },
    {
      "id": "9e927129-c200-45a2-9ed7-e4fc27c8741e",
      "cell_type": "markdown",
      "source": "**Objectives:**\n- List popular languages for DS\n- List popular libraries for DS\n- Name popular Tools for DS\n- Show examples of arithmetic expressions in Python",
      "metadata": {}
    },
    {
      "id": "27bbbbad-7d2d-45c5-acc2-6c4d309375ca",
      "cell_type": "markdown",
      "source": "Some of the popular languages that Data Scientists use are:\n1. Python\n2. R\n3. Julia\n",
      "metadata": {}
    },
    {
      "id": "9adbed68-69c3-444a-ad1a-40a565faa0c9",
      "cell_type": "markdown",
      "source": "Some of the commonly used libraries used by Data Scientists include:\n1. Numpy\n2. Pandas\n3. TensorFlow\n",
      "metadata": {}
    },
    {
      "id": "b904acc7-807a-4e0a-994b-05548d1b32d6",
      "cell_type": "markdown",
      "source": "| Data Science Tools       |\n|--------------------------|\n| Jupyter Notebook         |\n| RStudio                  |\n| Apache Zeppelin          |\n",
      "metadata": {}
    },
    {
      "id": "5d2690bc-d2b2-476f-b961-01ce7873e226",
      "cell_type": "markdown",
      "source": "### Below are a few examples of evaluating arithmetic expressions in Python.",
      "metadata": {}
    },
    {
      "id": "b6b00c1b-1823-4548-b7ac-811c282a7208",
      "cell_type": "code",
      "source": "# Simple arithmetic expression\n(3 * 4) + 5\n",
      "metadata": {
        "trusted": true
      },
      "outputs": [
        {
          "execution_count": 2,
          "output_type": "execute_result",
          "data": {
            "text/plain": "17"
          },
          "metadata": {}
        }
      ],
      "execution_count": 2
    },
    {
      "id": "d8e38f3a-a95f-4ff0-bec8-6e71360f4727",
      "cell_type": "code",
      "source": "#This will convert 200 minutes to hours by diving by 60\n200/60",
      "metadata": {
        "trusted": true
      },
      "outputs": [
        {
          "execution_count": 3,
          "output_type": "execute_result",
          "data": {
            "text/plain": "3.3333333333333335"
          },
          "metadata": {}
        }
      ],
      "execution_count": 3
    },
    {
      "id": "9635d457-f00e-4cf1-ae96-dccf6c6bdbcc",
      "cell_type": "markdown",
      "source": "## Author\nOlga M.",
      "metadata": {}
    }
  ]
}